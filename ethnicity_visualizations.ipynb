{
 "cells": [
  {
   "cell_type": "code",
   "execution_count": 2,
   "metadata": {},
   "outputs": [],
   "source": [
    "import pandas as pd\n",
    "import matplotlib.pyplot as plt\n",
    "%matplotlib inline\n",
    "import seaborn as sns\n",
    "\n",
    "summary = pd.read_csv('data/summary_dataset.csv')"
   ]
  },
  {
   "cell_type": "code",
   "execution_count": 3,
   "metadata": {},
   "outputs": [
    {
     "name": "stdout",
     "output_type": "stream",
     "text": [
      "  Ethnicity  RevenueInThousands    Sex  Average Employee Revenue\n",
      "0     Total        3.840554e+10  Total             299583.588701\n",
      "1     Total        2.830977e+08  Total             151150.116634\n",
      "2     Total        2.808711e+08  Total             222873.234843\n",
      "3     Total        4.463871e+07  Total             124292.993560\n",
      "4     Total        3.732536e+09  Total             216858.323538\n"
     ]
    },
    {
     "data": {
      "text/plain": [
       "<matplotlib.legend.Legend at 0x7f8a3dbe7100>"
      ]
     },
     "execution_count": 3,
     "metadata": {},
     "output_type": "execute_result"
    },
    {
     "data": {
      "image/png": "[encoded data removed]",
      "text/plain": [
       "<Figure size 432x288 with 1 Axes>"
      ]
     },
     "metadata": {
      "needs_background": "light"
     },
     "output_type": "display_data"
    },
    {
     "ename": "",
     "evalue": "",
     "output_type": "error",
     "traceback": [
      "\u001b[1;31mThe Kernel crashed while executing code in the the current cell or a previous cell. Please review the code in the cell(s) to identify a possible cause of the failure. Click <a href='https://aka.ms/vscodeJupyterKernelCrash'>here</a> for more info. View Jupyter <a href='command:jupyter.viewOutput'>log</a> for further details."
     ]
    }
   ],
   "source": [
    "#Extract needed columns\n",
    "ethnicity_rit_sex = summary[['Ethnicity', 'RevenueInThousands', 'Sex']].copy()\n",
    "\n",
    "ethnicity_rit_sex['Average Employee Revenue'] = (summary['RevenueInThousands'] * 1000) / summary['EmployeeCt']\n",
    "\n",
    "print(ethnicity_rit_sex.head())\n",
    "exit()\n",
    "#Rename to show the correct format & multiply revenue by 1000 to get accurate count\n",
    "ethnicity_rit_sex.rename(columns = {'RevenueInThousands' : 'Revenue'}, inplace = True)\n",
    "ethnicity_rit_sex['RevenueInBillions'] = summary['RevenueInThousands'] * 1000\n",
    "\n",
    "#Remove certain rows to show exact data\n",
    "ethnicity_rit_sex = ethnicity_rit_sex[ethnicity_rit_sex.Ethnicity != 'Total']\n",
    "ethnicity_rit_sex = ethnicity_rit_sex[ethnicity_rit_sex.Ethnicity != 'Classifiable']\n",
    "ethnicity_rit_sex = ethnicity_rit_sex[ethnicity_rit_sex.Ethnicity != 'Unclassifiable']\n",
    "ethnicity_rit_sex = ethnicity_rit_sex[ethnicity_rit_sex.Sex != 'Total']\n",
    "ethnicity_rit_sex = ethnicity_rit_sex[ethnicity_rit_sex.Ethnicity != 'Classifiable']\n",
    "\n",
    "#Sort the values and drop null values \n",
    "sorted_ethnicity_rit_sex = ethnicity_rit_sex.sort_values(by = 'Revenue').dropna()\n",
    "\n",
    "#group by and divide the Revenue column by 1,000,000. Unstack the sex column\n",
    "\n",
    "summed_ethnicity_rit_sex = sorted_ethnicity_rit_sex.groupby(['Ethnicity','Sex'])['Revenue'].mean().div(1000000000).unstack('Sex')\n",
    "\n",
    "#graph the chart \n",
    "graph_ethnicity_rit_sex = summed_ethnicity_rit_sex.plot.bar(title = 'Ethnicity & Gender vs Revenue' , color = ['orange','turquoise','lime'])\n",
    "\n",
    "#set the y label\n",
    "graph_ethnicity_rit_sex.set_ylabel('Revenue in Billions')\n",
    "\n",
    "#fix the legend\n",
    "graph_ethnicity_rit_sex.legend(['Equally male/female', 'Female', 'Male'], title = '')"
   ]
  },
  {
   "cell_type": "code",
   "execution_count": null,
   "metadata": {},
   "outputs": [],
   "source": []
  }
 ],
 "metadata": {
  "kernelspec": {
   "display_name": "Python 3.8.2 64-bit",
   "language": "python",
   "name": "python3"
  },
  "language_info": {
   "codemirror_mode": {
    "name": "ipython",
    "version": 3
   },
   "file_extension": ".py",
   "mimetype": "text/x-python",
   "name": "python",
   "nbconvert_exporter": "python",
   "pygments_lexer": "ipython3",
   "version": "3.8.2"
  },
  "orig_nbformat": 4,
  "vscode": {
   "interpreter": {
    "hash": "aee8b7b246df8f9039afb4144a1f6fd8d2ca17a180786b69acc140d282b71a49"
   }
  }
 },
 "nbformat": 4,
 "nbformat_minor": 2
}
