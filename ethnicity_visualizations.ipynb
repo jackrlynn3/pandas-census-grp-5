{
 "cells": [
  {
   "cell_type": "code",
   "execution_count": null,
   "metadata": {},
   "outputs": [],
   "source": [
    "import pandas as pd\n",
    "import matplotlib.pyplot as plt\n",
    "%matplotlib inline\n",
    "import seaborn as sns\n",
    "\n",
    "summary = pd.read_csv('data/summary_dataset.csv')"
   ]
  },
  {
   "cell_type": "markdown",
   "metadata": {},
   "source": [
    "What is the average revenue generated per employee for each ethnicity?"
   ]
  },
  {
   "cell_type": "code",
   "execution_count": null,
   "metadata": {},
   "outputs": [],
   "source": [
    "    #Extract needed columns\n",
    "    ethnicity_rit_sex = summary[['Ethnicity', 'Sex']].copy()\n",
    "\n",
    "    ethnicity_rit_sex['Average Employee Revenue'] = (summary['RevenueInThousands'] * 1000) / summary['EmployeeCt']\n",
    "\n",
    "    #Remove certain rows to show exact data\n",
    "    ethnicity_rit_sex = ethnicity_rit_sex[ethnicity_rit_sex.Ethnicity != 'Total']\n",
    "    ethnicity_rit_sex = ethnicity_rit_sex[ethnicity_rit_sex.Ethnicity != 'Classifiable']\n",
    "    ethnicity_rit_sex = ethnicity_rit_sex[ethnicity_rit_sex.Ethnicity != 'Unclassifiable']\n",
    "    ethnicity_rit_sex = ethnicity_rit_sex[ethnicity_rit_sex.Sex != 'Total']\n",
    "    ethnicity_rit_sex = ethnicity_rit_sex[ethnicity_rit_sex.Ethnicity != 'Classifiable']\n",
    "\n",
    "    #Sort the values and drop null values \n",
    "    sorted_ethnicity_rit_sex = ethnicity_rit_sex.sort_values(by = 'Average Employee Revenue').dropna()\n",
    "\n",
    "    #group by ethnicity and sex\n",
    "\n",
    "    summed_ethnicity_rit_sex = sorted_ethnicity_rit_sex.groupby(['Ethnicity','Sex'])['Average Employee Revenue'].mean().unstack('Sex')\n",
    "\n",
    "    #graph the chart \n",
    "    graph_ethnicity_rit_sex = summed_ethnicity_rit_sex.plot.bar(title = 'Ethnicity & Gender vs Average Revenue Produced by Employee' , color = ['orange','turquoise','lime'])\n",
    "\n",
    "    #set the y label\n",
    "    graph_ethnicity_rit_sex.set_ylabel('Average Employee Revenue')\n",
    "\n",
    "    #fix the legend\n",
    "    graph_ethnicity_rit_sex.legend(['Equally male/female', 'Female', 'Male'], title = '')"
   ]
  },
  {
   "cell_type": "markdown",
   "metadata": {},
   "source": [
    "What is the total amount of people employed by each category of Ethnicity?"
   ]
  },
  {
   "cell_type": "code",
   "execution_count": null,
   "metadata": {},
   "outputs": [],
   "source": [
    "#Extract needed columns\n",
    "ethnicity_efc_sex = summary[['Ethnicity', 'EmployeeCt', 'Sex']].copy()\n",
    "\n",
    "#Remove certain rows to show exact data\n",
    "ethnicity_efc_sex = ethnicity_efc_sex[ethnicity_efc_sex.Ethnicity != 'Total']\n",
    "ethnicity_efc_sex = ethnicity_efc_sex[ethnicity_efc_sex.Ethnicity != 'Classifiable']\n",
    "ethnicity_efc_sex = ethnicity_efc_sex[ethnicity_efc_sex.Ethnicity != 'Unclassifiable']\n",
    "ethnicity_efc_sex = ethnicity_efc_sex[ethnicity_efc_sex.Sex != 'Total']\n",
    "ethnicity_efc_sex = ethnicity_efc_sex[ethnicity_efc_sex.Ethnicity != 'Classifiable']\n",
    "\n",
    "#Sort the values and drop null values\n",
    "sorted_ethnicity_efc_sex = ethnicity_efc_sex.sort_values(by = 'EmployeeCt').dropna()\n",
    "\n",
    "\n",
    "#Group by and divide the employee count column by 1,000,000. Unstack the sex column \n",
    "summed_ethnicity_efc_sex = sorted_ethnicity_efc_sex.groupby(['Ethnicity','Sex']).sum().div(1000000).unstack('Sex')\n",
    "\n",
    "#Create chart\n",
    "graph_ethnicity_efc_sex = summed_ethnicity_efc_sex.plot.bar(title = 'Ethnicity & Gender vs Amount of People Employed in 2019' , color = ['orange','turquoise','lime'])\n",
    "\n",
    "#Set the y label\n",
    "graph_ethnicity_efc_sex.set_ylabel('Amount of Employees in Millions')\n",
    "\n",
    "#Fix the legend\n",
    "graph_ethnicity_efc_sex.legend(['Equally male/female', 'Female', 'Male'], title = '')"
   ]
  },
  {
   "cell_type": "markdown",
   "metadata": {},
   "source": [
    "What is the average pay per employee for each ethnicity?"
   ]
  },
  {
   "cell_type": "code",
   "execution_count": null,
   "metadata": {},
   "outputs": [],
   "source": [
    "#Extract columns needed\n",
    "emp_ethnicity_sex_apt = summary[['Ethnicity', 'Sex',]].copy()\n",
    "\n",
    "#Multiply payroll to get exact number and divide by employee count\n",
    "emp_ethnicity_sex_apt['Average Pay'] = (summary['AnnualPayrollInThousands'] * 1000) / summary['EmployeeCt']\n",
    "\n",
    "#Remove certain rows so data is more readable\n",
    "emp_ethnicity_sex_apt = emp_ethnicity_sex_apt[emp_ethnicity_sex_apt.Sex != 'Total']\n",
    "emp_ethnicity_sex_apt = emp_ethnicity_sex_apt[emp_ethnicity_sex_apt.Sex != 'Classifiable']\n",
    "emp_ethnicity_sex_apt = emp_ethnicity_sex_apt[emp_ethnicity_sex_apt.Ethnicity != 'Total']\n",
    "emp_ethnicity_sex_apt = emp_ethnicity_sex_apt[emp_ethnicity_sex_apt.Ethnicity != 'Unclassifiable']\n",
    "\n",
    "#drop null values\n",
    "sorted_emp_ethnicity_sex_apt = emp_ethnicity_sex_apt.sort_values(by = 'Average Pay').dropna(subset = ['Average Pay'])\n",
    "\n",
    "#group by and gather the mean for each ethnicity divided by sex\n",
    "summed_emp_ethnicity_sex_apt = sorted_emp_ethnicity_sex_apt.groupby(['Ethnicity','Sex'])['Average Pay'].mean().unstack('Sex')\n",
    "\n",
    "#Graph it\n",
    "graph_emp_ethnicity_sex_apt = summed_emp_ethnicity_sex_apt.plot.bar(title = 'Ethnicity & Gender vs Average Pay' , color = ['orange','turquoise','lime'])\n",
    "\n",
    "#Fix graph\n",
    "graph_emp_ethnicity_sex_apt.set_ylabel('Average Pay in USD')"
   ]
  },
  {
   "cell_type": "code",
   "execution_count": null,
   "metadata": {},
   "outputs": [],
   "source": []
  }
 ],
 "metadata": {
  "kernelspec": {
   "display_name": "Python 3.8.2 64-bit",
   "language": "python",
   "name": "python3"
  },
  "language_info": {
   "codemirror_mode": {
    "name": "ipython",
    "version": 3
   },
   "file_extension": ".py",
   "mimetype": "text/x-python",
   "name": "python",
   "nbconvert_exporter": "python",
   "pygments_lexer": "ipython3",
   "version": "3.8.2"
  },
  "orig_nbformat": 4,
  "vscode": {
   "interpreter": {
    "hash": "aee8b7b246df8f9039afb4144a1f6fd8d2ca17a180786b69acc140d282b71a49"
   }
  }
 },
 "nbformat": 4,
 "nbformat_minor": 2
}
