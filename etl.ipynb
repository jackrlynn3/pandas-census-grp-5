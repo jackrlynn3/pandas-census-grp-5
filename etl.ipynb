{
 "cells": [
  {
   "cell_type": "code",
   "execution_count": 125,
   "metadata": {},
   "outputs": [],
   "source": [
    "# Imports\n",
    "import pandas as pd\n",
    "import requests\n",
    "\n",
    "# Get urls\n",
    "from config import summary_url, characteristics_url, business_owners_url, tech_characteristics_url\n",
    "\n",
    "# Check connections\n",
    "census_data = []\n",
    "for url in [summary_url, characteristics_url, business_owners_url, tech_characteristics_url]:\n",
    "    r = requests.get(url)\n",
    "    data = r.json()\n",
    "    census_data.append(pd.DataFrame(data[1:], columns=data[0]))"
   ]
  },
  {
   "cell_type": "code",
   "execution_count": 126,
   "metadata": {},
   "outputs": [],
   "source": [
    "# Clarify summary dataset\n",
    "summary_data = census_data[0]\n",
    "\n",
    "# Helpful Documentation: https://www2.census.gov/programs-surveys/abs/technical-documentation/api/ABS_API_CB-10-4-2021.pdf\n",
    "# https://api.census.gov/data/2018/abscs/variables/FIRMPDEMP_F.html\n",
    "# https://api.census.gov/data/2017/abscs/variables/RCPPDEMP_F.html\n",
    "\n",
    "# Column removal\n",
    "\n",
    "# Remove codes groups\n",
    "summary_data = summary_data.drop(columns=['GEO_ID', 'SEX', 'RACE_GROUP', 'ETH_GROUP', 'VET_GROUP', 'NAICS2017', 'BUSCHAR'])\n",
    "\n",
    "# Remove flags groups\n",
    "summary_data = summary_data.drop(columns=['FIRMPDEMP_F', 'FIRMPDEMP_PCT_F', 'RCPPDEMP_F', 'RCPPDEMP_PCT_F', 'EMP_F',\n",
    "    'EMP_PCT_F', 'PAYANN_F', 'PAYANN_PCT_F', 'FIRMPDEMP_S_F', 'FIRMPDEMP_PCT_S_F', 'RCPPDEMP_S_F', 'RCPPDEMP_PCT_S_F',\n",
    "    'EMP_S_F', 'EMP_PCT_S_F', 'PAYANN_S_F', 'PAYANN_PCT_S_F'])\n",
    "\n",
    "# Remove standard error groups\n",
    "summary_data = summary_data.drop(columns=['FIRMPDEMP_S', 'FIRMPDEMP_PCT_S', 'RCPPDEMP_S', 'RCPPDEMP_PCT_S', 'EMP_S',\n",
    "    'EMP_PCT_S', 'PAYANN_S', 'PAYANN_PCT_S'])\n",
    "\n",
    "# Remove columns with no meaning\n",
    "summary_data = summary_data.drop(columns=['QDESC', 'QDESC_LABEL', 'us'])\n",
    "\n",
    "# Change to more descriptive names\n",
    "\n",
    "# Change names of columns to be more descriptive\n",
    "summary_data = summary_data.rename(columns=\n",
    "    {\n",
    "    'NAME': 'Name',\n",
    "    'SEX_LABEL': 'Sex',\n",
    "    'RACE_GROUP_LABEL': 'Race',\n",
    "    'ETH_GROUP_LABEL': 'Ethnicity',\n",
    "    'VET_GROUP_LABEL': 'VetStatus',\n",
    "    'NAICS2017_LABEL': 'IndustrySector',\n",
    "    'YEAR': 'Year',\n",
    "    'EMP': 'EmployeeCt',\n",
    "    'EMP_PCT': 'EmployeeCtPerc',\n",
    "    'BUSCHAR_LABEL': 'SpousalOwnershipSharing',\n",
    "    'FIRMPDEMP': 'EmployerFirmCt',\n",
    "    'FIRMPDEMP_PCT': 'EmployerFirmCtPerc',\n",
    "    'RCPPDEMP': 'RevenueInThousands',\n",
    "    'RCPPDEMP_PCT': 'RevenueInThousandsPerc',\n",
    "    'PAYANN': 'AnnualPayrollInThousands',\n",
    "    'PAYANN_PCT': 'AnnualPayrollInThousandsPerc'\n",
    "    })\n",
    "\n",
    "# NOTE: Business codes has a lot of different meanings, including operation status, business sharing\n",
    "\n",
    "# Type casting and handling nulls\n",
    "for column in ['EmployerFirmCt', 'RevenueInThousands', 'EmployeeCt', 'AnnualPayrollInThousands', \n",
    "    'EmployerFirmCtPerc','RevenueInThousandsPerc', 'EmployeeCtPerc', 'AnnualPayrollInThousandsPerc']:\n",
    "        if 'Perc' in column:\n",
    "            summary_data[column].loc[summary_data[column].notna()] = summary_data[column].loc[summary_data[column].notna()].astype(float)\n",
    "        else:\n",
    "            summary_data[column].loc[summary_data[column].notna()] = summary_data[column].loc[summary_data[column].notna()].astype(int)\n",
    "        \n",
    "        # Cast zeros as nulls\n",
    "        summary_data[column].loc[summary_data[column] == 0] = None\n",
    "\n",
    "# Save data as CSV\n",
    "\n",
    "summary_data.to_csv('data/summary_dataset.csv')"
   ]
  }
 ],
 "metadata": {
  "kernelspec": {
   "display_name": "Python 3.9.7 64-bit",
   "language": "python",
   "name": "python3"
  },
  "language_info": {
   "codemirror_mode": {
    "name": "ipython",
    "version": 3
   },
   "file_extension": ".py",
   "mimetype": "text/x-python",
   "name": "python",
   "nbconvert_exporter": "python",
   "pygments_lexer": "ipython3",
   "version": "3.9.7"
  },
  "orig_nbformat": 4,
  "vscode": {
   "interpreter": {
    "hash": "aee8b7b246df8f9039afb4144a1f6fd8d2ca17a180786b69acc140d282b71a49"
   }
  }
 },
 "nbformat": 4,
 "nbformat_minor": 2
}
