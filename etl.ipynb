{
 "cells": [
  {
   "cell_type": "code",
   "execution_count": 9,
   "metadata": {},
   "outputs": [],
   "source": [
    "# Imports\n",
    "import pandas as pd\n",
    "import requests\n",
    "\n",
    "# Get urls\n",
    "from config import summary_url, characteristics_url, business_owners_url, tech_characteristics_url\n",
    "\n",
    "# Check connections\n",
    "json_data = []\n",
    "for url in [summary_url, characteristics_url, business_owners_url, tech_characteristics_url]:\n",
    "    r = requests.get(url)\n",
    "    data = r.json()\n",
    "    json_data.append(data)"
   ]
  },
  {
   "cell_type": "code",
   "execution_count": 11,
   "metadata": {},
   "outputs": [],
   "source": [
    "# Create dictionaries for common tags\n",
    "\n",
    "# Sex\n",
    "sex_dict = {\n",
    "    '001': 'Total',\n",
    "    '002': 'Female',\n",
    "    '003': 'Male',\n",
    "    '004': 'Equally Male/Female',\n",
    "    '096': 'Classifiable',\n",
    "    '098': 'Unclassifiable'\n",
    "}\n",
    "\n",
    "# Ethnicity\n",
    "ethnicity_dict = {\n",
    "    '001': 'Total',\n",
    "    '020': 'Hispanic',\n",
    "    '028': 'Equally Hispanic/Non-Hispanic',\n",
    "    '029': 'Non-Hispanic',\n",
    "    '096': 'Classifiable',\n",
    "    '098': 'Unclassifiable'\n",
    "}\n",
    "\n",
    "# Race\n",
    "race_dict = {\n",
    "    '00': 'Total',\n",
    "    '30': 'White',\n",
    "    '40': 'Black or African American',\n",
    "    '50': 'American Indian or Alaskan Native',\n",
    "    '60': 'Asian',\n",
    "    '70': 'Native Hawaiian or Other Pacific Islander',\n",
    "    '90': 'Minority',\n",
    "    '91': 'Equally Minority/Nonminority',\n",
    "    '92': 'Nonminority',\n",
    "    '96': 'Classifiable',\n",
    "    '98': 'Unclassifiable',\n",
    "    '000': 'Total',\n",
    "    '030': 'White',\n",
    "    '040': 'Black or African American',\n",
    "    '050': 'American Indian or Alaskan Native',\n",
    "    '060': 'Asian',\n",
    "    '070': 'Native Hawaiian or Other Pacific Islander',\n",
    "    '090': 'Minority',\n",
    "    '091': 'Equally Minority/Nonminority',\n",
    "    '092': 'Nonminority',\n",
    "    '096': 'Classifiable',\n",
    "    '098': 'Unclassifiable'\n",
    "}\n",
    "\n",
    "# Veterans\n",
    "veteran_dict = {\n",
    "    '001': 'Total',\n",
    "    '002': 'Veteran',\n",
    "    '003': 'Equally Veteran/Nonveteran',\n",
    "    '004': 'Nonveteran',\n",
    "    '096': 'Classifiable',\n",
    "    '098': 'Unclassifiable',\n",
    "}"
   ]
  },
  {
   "cell_type": "code",
   "execution_count": null,
   "metadata": {},
   "outputs": [],
   "source": []
  }
 ],
 "metadata": {
  "kernelspec": {
   "display_name": "Python 3.9.7 64-bit",
   "language": "python",
   "name": "python3"
  },
  "language_info": {
   "codemirror_mode": {
    "name": "ipython",
    "version": 3
   },
   "file_extension": ".py",
   "mimetype": "text/x-python",
   "name": "python",
   "nbconvert_exporter": "python",
   "pygments_lexer": "ipython3",
   "version": "3.9.7"
  },
  "orig_nbformat": 4,
  "vscode": {
   "interpreter": {
    "hash": "aee8b7b246df8f9039afb4144a1f6fd8d2ca17a180786b69acc140d282b71a49"
   }
  }
 },
 "nbformat": 4,
 "nbformat_minor": 2
}
