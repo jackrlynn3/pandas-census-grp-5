{
 "cells": [
  {
   "cell_type": "markdown",
   "metadata": {},
   "source": [
    "# **(E)xtract, (T)ransform, and (L)oad of Census Data**\n",
    "**Last edited:** *July 15, 2022*\n",
    "\n",
    "**Data Sources:** [Summary Dataset](https://api.census.gov/data/2018/abscs.html), [States Dataset](https://api.census.gov/data/2018/abscs.html), [Owner Dataset](https://api.census.gov/data/2018/abscbo.html), and [Tech Dataset](https://api.census.gov/data/2018/abstcb.html)\n",
    "\n",
    "**NOTE:** Please contact Jack Lynn (jackrlynn@gmail.com) for the `config.py` file; **this ETL notebook will not run without it!**"
   ]
  },
  {
   "cell_type": "markdown",
   "metadata": {},
   "source": [
    "### **(E)tract**\n",
    "1. Collect URLs (with preformatted API key) that connect to Census API from `config.py`\n",
    "2. Iterate through each API call and save data to `census_data` list\n",
    "   1. `requests` library is used to make the connection to API and get text\n",
    "   2. Returned data is then converted to JSON format\n",
    "   3. `pandas` library is then used to convert the JSON format to `pandas` format\n",
    "   4. Each dataset is saved as a `DataFrame` in `census_data`"
   ]
  },
  {
   "cell_type": "code",
   "execution_count": 205,
   "metadata": {},
   "outputs": [],
   "source": [
    "# Imports\n",
    "import pandas as pd\n",
    "import requests\n",
    "\n",
    "# Get urls\n",
    "from config import api_key\n",
    "summary_url = f'https://api.census.gov/data/2018/abscb?get=GEO_ID,NAME,NAICS2017,NAICS2017_LABEL,SEX,SEX_LABEL,ETH_GROUP,ETH_GROUP_LABEL,RACE_GROUP,RACE_GROUP_LABEL,VET_GROUP,VET_GROUP_LABEL,QDESC,QDESC_LABEL,BUSCHAR,BUSCHAR_LABEL,YEAR,FIRMPDEMP,FIRMPDEMP_F,FIRMPDEMP_PCT,FIRMPDEMP_PCT_F,RCPPDEMP,RCPPDEMP_F,RCPPDEMP_PCT,RCPPDEMP_PCT_F,EMP,EMP_F,EMP_PCT,EMP_PCT_F,PAYANN,PAYANN_F,PAYANN_PCT,PAYANN_PCT_F,FIRMPDEMP_S,FIRMPDEMP_S_F,FIRMPDEMP_PCT_S,FIRMPDEMP_PCT_S_F,RCPPDEMP_S,RCPPDEMP_S_F,RCPPDEMP_PCT_S,RCPPDEMP_PCT_S_F,EMP_S,EMP_S_F,EMP_PCT_S,EMP_PCT_S_F,PAYANN_S,PAYANN_S_F,PAYANN_PCT_S,YIBSZFI_LABEL&for=us:*&QDESC_LABEL=SPOUSES&key={api_key}'\n",
    "business_owners_url = f'https://api.census.gov/data/2018/abscbo?get=GEO_ID,NAME,NAICS2017,NAICS2017_LABEL,OWNER_SEX,OWNER_SEX_LABEL,OWNER_ETH,OWNER_ETH_LABEL,OWNER_RACE,OWNER_RACE_LABEL,OWNER_VET,OWNER_VET_LABEL,QDESC,QDESC_LABEL,OWNCHAR,OWNCHAR_LABEL,YEAR,OWNPDEMP,OWNPDEMP_F,OWNPDEMP_PCT,OWNPDEMP_PCT_F,OWNPDEMP_S,OWNPDEMP_S_F,OWNPDEMP_PCT_S,OWNPDEMP_PCT_S_F&for=us:*&QDESC_LABEL=YRACQBUS&key={api_key}'\n",
    "tech_characteristics_url = f'https://api.census.gov/data/2018/abstcb?get=GEO_ID,NAME,NAICS2017,NAICS2017_LABEL,SEX,SEX_LABEL,ETH_GROUP,ETH_GROUP_LABEL,RACE_GROUP,RACE_GROUP_LABEL,VET_GROUP,VET_GROUP_LABEL,NSFSZFI,NSFSZFI_LABEL,FACTORS_P,FACTORS_P_LABEL,YEAR,FIRMPDEMP,FIRMPDEMP_PCT,RCPPDEMP,RCPPDEMP_PCT,EMP,EMP_F,EMP_PCT,EMP_PCT_F,PAYANN,PAYANN_F,PAYANN_PCT,PAYANN_PCT_F,FIRMPDEMP_S,FIRMPDEMP_S_F,FIRMPDEMP_PCT_S,FIRMPDEMP_PCT_S_F,RCPPDEMP_S,RCPPDEMP_S_F,RCPPDEMP_PCT_S,RCPPDEMP_PCT_S_F,EMP_S,EMP_S_F,EMP_PCT_S,EMP_PCT_S_F,PAYANN_S,PAYANN_S_F,PAYANN_PCT_S,PAYANN_PCT_S_F,TECHUSE_LABEL,TECHSELL_LABEL,MOTPRODTECH_LABEL&for=us:*&key={api_key}'\n",
    "states_url = f'https://api.census.gov/data/2018/abscb?get=GEO_ID,NAME,NAICS2017,NAICS2017_LABEL,SEX,SEX_LABEL,ETH_GROUP,ETH_GROUP_LABEL,RACE_GROUP,RACE_GROUP_LABEL,VET_GROUP,VET_GROUP_LABEL,QDESC,QDESC_LABEL,BUSCHAR,BUSCHAR_LABEL,YEAR,FIRMPDEMP,FIRMPDEMP_F,FIRMPDEMP_PCT,FIRMPDEMP_PCT_F,RCPPDEMP,RCPPDEMP_F,RCPPDEMP_PCT,RCPPDEMP_PCT_F,EMP,EMP_F,EMP_PCT,EMP_PCT_F,PAYANN,PAYANN_F,PAYANN_PCT,PAYANN_PCT_F,FIRMPDEMP_S,FIRMPDEMP_S_F,FIRMPDEMP_PCT_S,FIRMPDEMP_PCT_S_F,RCPPDEMP_S,RCPPDEMP_S_F,RCPPDEMP_PCT_S,RCPPDEMP_PCT_S_F,EMP_S,EMP_S_F,EMP_PCT_S,EMP_PCT_S_F,PAYANN_S,PAYANN_S_F,PAYANN_PCT_S,YIBSZFI_LABEL&for=state:*&QDESC_LABEL=SPOUSES&key={api_key}'\n",
    "\n",
    "# Check connections\n",
    "census_data = []\n",
    "for url in [summary_url, states_url, business_owners_url, tech_characteristics_url]:\n",
    "    r = requests.get(url)\n",
    "\n",
    "    # Convert connection to JSON format\n",
    "    data = r.json()\n",
    "\n",
    "    # Save dataset as pandas\n",
    "    census_data.append(pd.DataFrame(data[1:], columns=data[0]))"
   ]
  },
  {
   "cell_type": "markdown",
   "metadata": {},
   "source": [
    "### **(T)ransform**\n",
    "With each dataset:\n",
    "1. Load in the `DataFrame` instance of that dataset, and assign a descriptive name: `summary_data`, `states_data`, `owner_data`, and `tech_data`\n",
    "2. Form a name conversion dictionary to convert raw data headers to more descriptive headers\n",
    "3. Make two lists of all columns that are repetative or useless, and save them as list variables\n",
    "4. Make a list of columns that are numerical\n",
    "5. Pass the dataset into `commonClean`, a common function that cleans the data; *see `commonClean` documentation for more info*\n",
    "\n",
    "[Helpful document!](https://www2.census.gov/programs-surveys/abs/technical-documentation/api/ABS_API_CB-10-4-2021.pdf)"
   ]
  },
  {
   "cell_type": "markdown",
   "metadata": {},
   "source": [
    "**commonClean()**: clean the dataset, including (1) dropping all redundant and useless columns, (2) removing all flag and standard error columns, (3) renaming labels to be more descriptive, (4) handling numerical nulls, and (5) casting numerical data\n",
    "- ***data:*** (`DataFrame`) the dataset to be cleaned, in `pandas` format\n",
    "- ***code_groups:*** (`list(str)`, def: `[]`) list of strings describing the headers that are not useful or redundant; will be removed in cleaning data\n",
    "- ***rename_dict:*** (`dict(str: str)`, def: `dict()`) dictionary that includes header renames; used to make data headers more descriptive \n",
    "- ***number_cols:*** (`list(str)`) list of headers that should be considered numerical types; helps with casting data\n",
    "- ***return:*** (`DataFrame`) cleaned data"
   ]
  },
  {
   "cell_type": "code",
   "execution_count": 206,
   "metadata": {},
   "outputs": [],
   "source": [
    "def commonClean(data, code_groups=[], meaningless_groups=[], rename_dict=dict(), number_cols=[]):\n",
    "\n",
    "    # Remove codes groups\n",
    "    data = data.drop(columns=code_groups)\n",
    "\n",
    "    # Remove flags and error groups\n",
    "    for column in data.columns:\n",
    "        if '_F' in column:\n",
    "            data = data.drop(columns=[column])\n",
    "        elif '_S' in column:\n",
    "            data = data.drop(columns=[column])\n",
    "\n",
    "    # Remove columns with no meaning\n",
    "    data = data.drop(columns=meaningless_groups) \n",
    "\n",
    "    # Rename labels\n",
    "    data = data.rename(columns=rename_dict)\n",
    "\n",
    "    # Handle nulls and cast all number columns\n",
    "    for column in number_cols:\n",
    "        if 'Perc' in column:\n",
    "            data[column].loc[data[column].notna()] = data[column].loc[data[column].notna()].astype(float)\n",
    "        else:\n",
    "            data[column].loc[data[column].notna()] = data[column].loc[data[column].notna()].astype(int)\n",
    "        \n",
    "        # Cast zeros as nulls\n",
    "        data[column].loc[data[column] == 0] = None\n",
    "\n",
    "    # Return clean data\n",
    "    return data"
   ]
  },
  {
   "cell_type": "markdown",
   "metadata": {},
   "source": [
    "##### ***Clean Summary Dataset***"
   ]
  },
  {
   "cell_type": "code",
   "execution_count": 207,
   "metadata": {},
   "outputs": [],
   "source": [
    "# Get business dataset\n",
    "summary_data = census_data[0]\n",
    "\n",
    "# Form column header conversion\n",
    "summary_label_dict = {\n",
    "    'SEX_LABEL': 'Sex',\n",
    "    'RACE_GROUP_LABEL': 'Race',\n",
    "    'ETH_GROUP_LABEL': 'Ethnicity',\n",
    "    'VET_GROUP_LABEL': 'VetStatus',\n",
    "    'NAICS2017_LABEL': 'Industry',\n",
    "    'YEAR': 'Year',\n",
    "    'EMP': 'EmployeeCt',\n",
    "    'EMP_PCT': 'EmployeeCtPerc',\n",
    "    'BUSCHAR_LABEL': 'SpousalOwnershipSharing',\n",
    "    'FIRMPDEMP': 'EmployerFirmCt',\n",
    "    'FIRMPDEMP_PCT': 'EmployerFirmCtPerc',\n",
    "    'RCPPDEMP': 'RevenueInThousands',\n",
    "    'RCPPDEMP_PCT': 'RevenueInThousandsPerc',\n",
    "    'PAYANN': 'AnnualPayrollInThousands',\n",
    "    'PAYANN_PCT': 'AnnualPayrollInThousandsPerc',\n",
    "    'YIBSZFI_LABEL': 'YearsInBusiness'\n",
    "    }\n",
    "\n",
    "# Clean data\n",
    "summary_data = commonClean(summary_data,\n",
    "    code_groups=['GEO_ID', 'SEX', 'RACE_GROUP', 'ETH_GROUP', 'VET_GROUP', 'NAICS2017', 'BUSCHAR'],\n",
    "    meaningless_groups=['QDESC', 'QDESC_LABEL', 'us', 'NAME'],\n",
    "    rename_dict=summary_label_dict,\n",
    "    number_cols=['EmployerFirmCt', 'RevenueInThousands', 'EmployeeCt', 'AnnualPayrollInThousands', \n",
    "    'EmployerFirmCtPerc','RevenueInThousandsPerc', 'EmployeeCtPerc', 'AnnualPayrollInThousandsPerc'])"
   ]
  },
  {
   "cell_type": "markdown",
   "metadata": {},
   "source": [
    "##### ***Firm Owner Dataset***"
   ]
  },
  {
   "cell_type": "code",
   "execution_count": 209,
   "metadata": {},
   "outputs": [],
   "source": [
    "# Get firm dataset\n",
    "states_data = census_data[1]\n",
    "\n",
    "# Form column header conversion\n",
    "states_label_dict = {\n",
    "    'SEX_LABEL': 'Sex',\n",
    "    'RACE_GROUP_LABEL': 'Race',\n",
    "    'ETH_GROUP_LABEL': 'Ethnicity',\n",
    "    'VET_GROUP_LABEL': 'VetStatus',\n",
    "    'NAICS2017_LABEL': 'Industry',\n",
    "    'YEAR': 'Year',\n",
    "    'EMP': 'EmployeeCt',\n",
    "    'EMP_PCT': 'EmployeeCtPerc',\n",
    "    'BUSCHAR_LABEL': 'SpousalOwnershipSharing',\n",
    "    'FIRMPDEMP': 'EmployerFirmCt',\n",
    "    'FIRMPDEMP_PCT': 'EmployerFirmCtPerc',\n",
    "    'RCPPDEMP': 'RevenueInThousands',\n",
    "    'RCPPDEMP_PCT': 'RevenueInThousandsPerc',\n",
    "    'PAYANN': 'AnnualPayrollInThousands',\n",
    "    'PAYANN_PCT': 'AnnualPayrollInThousandsPerc',\n",
    "    'NAME': 'State'\n",
    "    }\n",
    "\n",
    "# Clean data\n",
    "states_data = commonClean(states_data,\n",
    "    code_groups=['GEO_ID', 'SEX', 'RACE_GROUP', 'ETH_GROUP', 'VET_GROUP', 'NAICS2017', 'BUSCHAR'],\n",
    "    meaningless_groups=['QDESC', 'QDESC_LABEL'],\n",
    "    rename_dict=states_label_dict,\n",
    "    number_cols=['EmployerFirmCt', 'RevenueInThousands', 'EmployeeCt', 'AnnualPayrollInThousands', \n",
    "    'EmployerFirmCtPerc','RevenueInThousandsPerc', 'EmployeeCtPerc', 'AnnualPayrollInThousandsPerc'])"
   ]
  },
  {
   "cell_type": "markdown",
   "metadata": {},
   "source": [
    "##### ***Clean Owner Dataset***"
   ]
  },
  {
   "cell_type": "code",
   "execution_count": 210,
   "metadata": {},
   "outputs": [],
   "source": [
    "# Get owner dataset\n",
    "owner_data = census_data[2]\n",
    "\n",
    "# Form column header conversion\n",
    "owner_label_dict = {\n",
    "    'OWNER_SEX_LABEL': 'OwnerSex',\n",
    "    'OWNER_RACE_LABEL': 'OwnerRace',\n",
    "    'OWNER_ETH_LABEL': 'OwnerEthnicity',\n",
    "    'OWNER_VET_LABEL': 'OwnerVetStatus',\n",
    "    'NAICS2017_LABEL': 'Industry',\n",
    "    'YEAR': 'Year',\n",
    "    'OWNCHAR_LABEL': 'OwnedSince',\n",
    "    'OWNPDEMP': 'OwnerCt',\n",
    "    'OWNPDEMP_PCT': 'OwnerCtPerc'\n",
    "    }\n",
    "\n",
    "# Clean data\n",
    "owner_data = commonClean(owner_data,\n",
    "    code_groups=['GEO_ID', 'OWNER_SEX', 'OWNER_RACE', 'OWNER_ETH', 'OWNER_VET', 'NAICS2017', 'OWNCHAR'],\n",
    "    meaningless_groups=['QDESC', 'QDESC_LABEL', 'us', 'NAME'],\n",
    "    rename_dict=owner_label_dict,\n",
    "    number_cols=['OwnerCt', 'OwnerCtPerc'])"
   ]
  },
  {
   "cell_type": "markdown",
   "metadata": {},
   "source": [
    "##### ***Clean Tech Dataset***"
   ]
  },
  {
   "cell_type": "code",
   "execution_count": 211,
   "metadata": {},
   "outputs": [],
   "source": [
    "# Get tech dataset\n",
    "tech_data = census_data[3]\n",
    "\n",
    "# Form column header conversion\n",
    "tech_label_dict = {\n",
    "    'SEX_LABEL': 'Sex',\n",
    "    'RACE_GROUP_LABEL': 'Race',\n",
    "    'ETH_GROUP_LABEL': 'Ethnicity',\n",
    "    'VET_GROUP_LABEL': 'VetStatus',\n",
    "    'NAICS2017_LABEL': 'Industry',\n",
    "    'YEAR': 'Year',\n",
    "    'NSFSZFI_LABEL': 'CompanySize',\n",
    "    'FACTORS_P_LABEL': 'TechAdverseReason',\n",
    "    'RCPPDEMP': 'RevenueInThousands',\n",
    "    'RCPPDEMP_PCT': 'RevenueInThousandsPerc',\n",
    "    'PAYANN': 'AnnualPayrollInThousands',\n",
    "    'PAYANN_PCT': 'AnnualPayrollInThousandsPerc',\n",
    "    'EMP': 'EmployeeCt',\n",
    "    'EMP_PCT': 'EmployeeCtPerc',\n",
    "    'FIRMPDEMP': 'EmployerFirmCt',\n",
    "    'FIRMPDEMP_PCT': 'EmployerFirmCtPerc',\n",
    "    'TECHUSE_LABEL': 'TechUseExtent',\n",
    "    'TECHSELL_LABEL': 'TechProduction',\n",
    "    'MOTPRODTECH_LABEL': 'TechMotivation'\n",
    "    }\n",
    "\n",
    "# Clean data\n",
    "tech_data = commonClean(tech_data,\n",
    "    code_groups=['GEO_ID', 'SEX', 'RACE_GROUP', 'ETH_GROUP', 'VET_GROUP', 'NAICS2017', 'NSFSZFI', 'FACTORS_P'],\n",
    "    meaningless_groups=['us', 'NAME'],\n",
    "    rename_dict=tech_label_dict,\n",
    "    number_cols=['RevenueInThousands', 'RevenueInThousandsPerc', 'AnnualPayrollInThousands',\n",
    "        'AnnualPayrollInThousandsPerc', 'EmployeeCt', 'EmployeeCtPerc', 'EmployerFirmCt', 'EmployerFirmCtPerc'])"
   ]
  },
  {
   "cell_type": "markdown",
   "metadata": {},
   "source": [
    "### **(T)ransform**\n",
    "Pass each `DataFrame` into `to_csv` class function, saving to `data` folder"
   ]
  },
  {
   "cell_type": "code",
   "execution_count": 212,
   "metadata": {},
   "outputs": [],
   "source": [
    "# Save all data to CSVs\n",
    "summary_data.to_csv('data/summary_dataset.csv')\n",
    "states_data.to_csv('data/states_dataset.csv')\n",
    "owner_data.to_csv('data/owner_dataset.csv')\n",
    "tech_data.to_csv('data/tech_dataset.csv')"
   ]
  }
 ],
 "metadata": {
  "kernelspec": {
   "display_name": "Python 3.9.12 ('base')",
   "language": "python",
   "name": "python3"
  },
  "language_info": {
   "codemirror_mode": {
    "name": "ipython",
    "version": 3
   },
   "file_extension": ".py",
   "mimetype": "text/x-python",
   "name": "python",
   "nbconvert_exporter": "python",
   "pygments_lexer": "ipython3",
   "version": "3.9.12"
  },
  "orig_nbformat": 4,
  "vscode": {
   "interpreter": {
    "hash": "e44f445e56984b6abd0df9dd043231973c1cb5e0fd2c7c93e41343ee4c16ad2b"
   }
  }
 },
 "nbformat": 4,
 "nbformat_minor": 2
}
